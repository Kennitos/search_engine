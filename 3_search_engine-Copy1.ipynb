{
 "cells": [
  {
   "cell_type": "markdown",
   "metadata": {},
   "source": [
    "# Search Engine"
   ]
  },
  {
   "cell_type": "markdown",
   "metadata": {},
   "source": [
    "### Import"
   ]
  },
  {
   "cell_type": "code",
   "execution_count": 10,
   "metadata": {},
   "outputs": [],
   "source": [
    "import os\n",
    "import re\n",
    "\n",
    "import ipywidgets as widgets\n",
    "\n",
    "from elasticsearch import Elasticsearch\n",
    "from bs4 import BeautifulSoup"
   ]
  },
  {
   "cell_type": "markdown",
   "metadata": {},
   "source": [
    "### Give the username of your computer below:"
   ]
  },
  {
   "cell_type": "code",
   "execution_count": 2,
   "metadata": {},
   "outputs": [
    {
     "data": {
      "text/plain": [
       "'\\\\Documents\\\\test_thesis'"
      ]
     },
     "execution_count": 2,
     "metadata": {},
     "output_type": "execute_result"
    }
   ],
   "source": [
    "path = os.getcwd()\n",
    "username_pc = path.split('\\\\')[2] # username is always third item [drive][users][username][folder][folder][etc]\n",
    "# username_pc = 'kenne' # or type manually\n",
    "\n",
    "path.split(username_pc)[1]"
   ]
  },
  {
   "cell_type": "markdown",
   "metadata": {},
   "source": [
    "#### CHEATSHEET Elastic Search curl's"
   ]
  },
  {
   "cell_type": "code",
   "execution_count": 133,
   "metadata": {},
   "outputs": [
    {
     "name": "stdout",
     "output_type": "stream",
     "text": [
      "health status index uuid pri rep docs.count docs.deleted store.size pri.store.size\n"
     ]
    },
    {
     "name": "stderr",
     "output_type": "stream",
     "text": [
      "  % Total    % Received % Xferd  Average Speed   Time    Time     Time  Current\n",
      "                                 Dload  Upload   Total   Spent    Left  Speed\n",
      "\n",
      "  0     0    0     0    0     0      0      0 --:--:-- --:--:-- --:--:--     0\n",
      "100    83  100    83    0     0   6384      0 --:--:-- --:--:-- --:--:--  6384\n"
     ]
    }
   ],
   "source": [
    "# !curl \"http://localhost:9200/test\"\n",
    "# !curl -XDELETE \"localhost:9200/repos\"\n",
    "# !curl -XPOST \"http://localhost:9200/_shutdown\"\n",
    "\n",
    "!curl \"http://localhost:9200/_cat/indices?v\""
   ]
  },
  {
   "cell_type": "code",
   "execution_count": 120,
   "metadata": {},
   "outputs": [
    {
     "name": "stdout",
     "output_type": "stream",
     "text": [
      "Let's%20build%20a%20[directed](http://www.kennet-botan.nl),%20#weighted%20networkx%20graph%20from%20the%20edgelist%20in%20votes_melted:\n"
     ]
    },
    {
     "data": {
      "text/plain": [
       "\"#:~:text=Let's%20build%20a%20directed,%20#weighted%20networkx%20graph%20from%20the%20edgelist%20in%20votes_melted:\""
      ]
     },
     "execution_count": 120,
     "metadata": {},
     "output_type": "execute_result"
    }
   ],
   "source": [
    "a = 'abc'\n",
    "b = [\"Let's build a [directed](http://www.kennet-botan.nl), #weighted ``networkx`` graph from the edgelist in ``votes_melted``:\",\"bbbbb\"]\n",
    "# r1 = re.compile(.*[[w+]])\n",
    "\n",
    "k = b\n",
    "if type(k) is list:\n",
    "    longest = max(k, key=len)\n",
    "else: \n",
    "    longest = input_str\n",
    "    \n",
    "start = '#:~:text='\n",
    "end = longest.replace(\"``\",'').replace(' ','%20')   # remove html encoding for ` character (used like this ``variable``)\n",
    "                                                    # see cell below\n",
    "                                                    # add html encoding for whitespaces between words\n",
    "output = start+end\n",
    "    \n",
    "print(end)\n",
    "create_ref(b)"
   ]
  },
  {
   "cell_type": "markdown",
   "metadata": {},
   "source": [
    "remove html encoding for ` character (used like this ``variable``)"
   ]
  },
  {
   "cell_type": "markdown",
   "metadata": {},
   "source": [
    "#### Difference re.match and re.findall\n",
    "re.match matches the pattern from the start of the string. re.findall however searches for occurrences of the pattern anywhere in the string."
   ]
  },
  {
   "cell_type": "code",
   "execution_count": 98,
   "metadata": {},
   "outputs": [
    {
     "name": "stdout",
     "output_type": "stream",
     "text": [
      "<filter object at 0x0000016778CEF288>\n"
     ]
    },
    {
     "data": {
      "text/plain": [
       "'For more information on plotting with Seaborn, see the Seaborn documentation, a tutorial, and the Seaborn gallery.'"
      ]
     },
     "execution_count": 98,
     "metadata": {},
     "output_type": "execute_result"
    }
   ],
   "source": [
    "aa = \"Let's build a [directed](http://www.kennet-botan.nl), weighted ``networkx`` graph from [bla](hoi) the edgelist in ``votes_melted``:\"\n",
    "r1 = re.compile('\\[w+\\]')\n",
    "r2 = re.compile('\\[(.*?)\\]')\n",
    "r3 = re.compile('[directed]')\n",
    "print((filter(r3.match,aa)))\n",
    "\n",
    "bb =\"For more information on plotting with Seaborn, see the [Seaborn documentation](http://seaborn.pydata.org/), a [tutorial](http://seaborn.pydata.org/tutorial.htm), and the [Seaborn gallery](http://seaborn.pydata.org/examples/index.html).\"\n",
    "\n",
    "\n",
    "combi = re.findall('\\[(.*?)\\]\\((.*?)\\)', aa) # get match the same as [underlined text](url)\n",
    "\n",
    "combi_str = '['+combi[0][0]+']'+'('+combi[0][1]+')'\n",
    "combi_str\n",
    "\n",
    "def markdown_ref(text):\n",
    "    refs = re.findall('\\[(.*?)\\]\\((.*?)\\)', text) # get match the same as [reference](url or # within page)\n",
    "    for ref in refs: # small chance of multiple in a single text\n",
    "        to_replace = '['+ref[0]+']'+'('+ref[1]+')' # lorem ipsum [`ref0`](`ref1`) dolor sit amet\n",
    "        text = text.replace(to_replace,ref[0])\n",
    "    return text\n",
    "\n",
    "markdown_ref(bb)\n",
    "        "
   ]
  },
  {
   "cell_type": "code",
   "execution_count": null,
   "metadata": {},
   "outputs": [],
   "source": [
    "r1 = re.compile(\".*github.com/[a-zA-Z0-9_-]+/[a-zA-Z0-9_-]+$\") # get all links the same as .....github.com/..../....$ \n",
    "r2 = re.compile(\".*github.com/[a-zA-Z0-9_-]+/[a-zA-Z0-9_-]+\")  # get all links the same as .....github.com/..../....+ \n",
    "r3 = re.compile(\"github.com/[a-zA-Z0-9_-]+/[a-zA-Z0-9_-]+\")    # get all links the same as github.com/..../....+ \n",
    "\n",
    "github_repositories = set(filter(r1.match, all_links_in_body)) # There are 9 duplicates 112->103 correct url"
   ]
  },
  {
   "cell_type": "code",
   "execution_count": null,
   "metadata": {},
   "outputs": [],
   "source": []
  },
  {
   "cell_type": "code",
   "execution_count": 166,
   "metadata": {},
   "outputs": [],
   "source": [
    "# a = '<b>k-nearest neighbour</b>'\n",
    "# BeautifulSoup(a, \"lxml\").text # remove possible html tags, to avoid contradictory tags in display_results()\n"
   ]
  },
  {
   "cell_type": "code",
   "execution_count": 169,
   "metadata": {},
   "outputs": [
    {
     "name": "stdout",
     "output_type": "stream",
     "text": [
      "yes\n"
     ]
    }
   ],
   "source": [
    "total = 200\n",
    "given = 5\n",
    "\n",
    "if total>given>0:\n",
    "    print('yes')"
   ]
  },
  {
   "cell_type": "markdown",
   "metadata": {},
   "source": [
    "hoi ``bla`` hoiu"
   ]
  },
  {
   "cell_type": "markdown",
   "metadata": {},
   "source": [
    "### Fucntions"
   ]
  },
  {
   "cell_type": "code",
   "execution_count": 126,
   "metadata": {},
   "outputs": [],
   "source": [
    "# Text \n",
    "HOST = 'http://localhost:9200/'\n",
    "es = Elasticsearch(hosts=[HOST]) \n",
    "\n",
    "# Text \n",
    "normal_text = widgets.Text() #description=\"Search\", continuous_update=True)\n",
    "code = widgets.Text(description=\"Code\")\n",
    "markdown = widgets.Text(description=\"Markdown\")\n",
    "modules = widgets.Text(description=\"Modules\")\n",
    "\n",
    "# Buttons\n",
    "search_b_normal = widgets.Button(description=\"Search\")\n",
    "search_b_adv = widgets.Button(description=\"Adv S\")\n",
    "clear_b = widgets.Button(description=\"Clear\")\n",
    "\n",
    "# Output\n",
    "output = widgets.Output()\n",
    "\n",
    "\n",
    "def markdown_ref(text):\n",
    "    refs = re.findall('\\[(.*?)\\]\\((.*?)\\)', text) # get match the same as [reference](url or # within page)\n",
    "    for ref in refs: # small chance of multiple in a single text\n",
    "        to_replace = '['+ref[0]+']'+'('+ref[1]+')' # lorem ipsum [`ref0`](`ref1`) dolor sit amet\n",
    "        text = text.replace(to_replace,ref[0])\n",
    "    return text\n",
    "\n",
    "\n",
    "def create_ref(input_str):\n",
    "    if type(input_str) is list: # get the longest string from the list of strings, this works better with highlighting \n",
    "        longest = max(input_str, key=len)\n",
    "    else: \n",
    "        longest = input_str\n",
    "    if longest.startswith('#'):\n",
    "        longest = longest.replace('#','').lstrip() #use lstrip instead of strip (only want to strip in front of string)\n",
    "    longest = BeautifulSoup(longest, \"html.parser\").text # remove possible html tags, to avoid contradictory tags in display_results()\n",
    "    # \"BeautifulSoup(longest,\"lxml\") causes problems on other pc's\"\n",
    "    longest = longest.lstrip('-').lstrip()\n",
    "    longest = markdown_ref(longest)\n",
    "    start = '#:~:text='\n",
    "    end = longest.replace('`','').replace(' ','%20')    # remove html encoding for ` character (used like this ``variable``)\n",
    "                                                        # add html encoding for whitespaces between words\n",
    "    output = start+end\n",
    "    return output\n",
    "\n",
    "\n",
    "def multi_match_query(string,highlight):\n",
    "    \"\"\"\n",
    "    Function explenation\n",
    "    \"\"\"\n",
    "    # https://www.elastic.co/guide/en/elasticsearch/reference/6.8/search-request-highlighting.html\n",
    "    fields = ['string']\n",
    "    query_str = string\n",
    "    q = {}\n",
    "    query_dict = {}\n",
    "    multi_match = {}\n",
    "    multi_match['fields'] = fields\n",
    "    multi_match['query'] = query_str\n",
    "    query_dict['multi_match'] = multi_match\n",
    "    q['query'] = query_dict\n",
    "    \n",
    "    if highlight != None:\n",
    "        highlight = {\"pre_tags\":[\"<u><i><b>\"],\n",
    "            \"post_tags\":[\"</b></i></u>\"],\n",
    "            \"fields\":{'string':{}}}\n",
    "        q['highlight'] = highlight\n",
    "    return q\n",
    "\n",
    "\n",
    "def on_normal_search_clicked(b):\n",
    "    with output:\n",
    "        output.clear_output()\n",
    "        if normal_text.value == '':\n",
    "            print(\"Type a query\")\n",
    "        else:\n",
    "            display_results(multi_match_query(normal_text.value,True),10)\n",
    "\n",
    "\n",
    "def on_adv_search_clicked(b):\n",
    "    send_code = code.value\n",
    "    send_markdown = markdown.value\n",
    "    send_modules = modules.value\n",
    "    with output:\n",
    "        output.clear_output()\n",
    "        if code.value == \"\" and markdown.value=='' and modules.value=='':\n",
    "            print(\"Type a query\")\n",
    "        else:\n",
    "            if code.value == '':\n",
    "                send_code = None\n",
    "            if markdown.value == '':\n",
    "                send_markdown = None\n",
    "            if modules.value == '':\n",
    "                send_modules = None\n",
    "            print(query_string_query(send_code,send_markdown,send_modules,True))\n",
    "            display_results(query_string_query(send_code,send_markdown,send_modules,True),20)\n",
    "\n",
    "\n",
    "def on_clear_clicked(b):\n",
    "    with output:\n",
    "        output.clear_output()\n",
    "    normal_text.value = ''\n",
    "    markdown.value = ''\n",
    "    code.value = ''\n",
    "    modules.value = ''\n",
    "\n",
    "\n",
    "def switch(check):\n",
    "    with output:                      # remove if you want results to stay when\n",
    "        output.clear_output()         # you switch between normal and adv search\n",
    "    if check['new']:\n",
    "        search_display.children=[row_adv2,row_output] # --------------- ADV VERANDERD IN ADV2 --------------------\n",
    "    else:\n",
    "        search_display.children=[row_normal,row_output]\n",
    "\n",
    "\n",
    "def display_results(query,max_res):\n",
    "    result = es.search(body=query, size=max_res)\n",
    "    # HIER STAAT OFFLINE ES\n",
    "#     result = offline_es\n",
    "    for i in range(len(result['hits']['hits'])): # for all hits\n",
    "        res = result['hits']['hits'][i]\n",
    "        \n",
    "        res_layout = widgets.Layout(maring='0px')\n",
    "        \n",
    "        title = widgets.HTML(value='<b>'+res['_source']['file']+'</b>')#,layout=res_layout)\n",
    "        os_path = res['_source']['location']\n",
    "        localhost_path = os_path.split(username_pc)[1]\n",
    "        print(localhost_path)\n",
    "        \n",
    "        url = widgets.HTML(value='<a href= http://localhost:8888/notebooks'+localhost_path+' target=\"_blank\">'+localhost_path+'</a>')\n",
    "        score = widgets.HTML(value=str(res['_score']))#,layout=res_layout)\n",
    "        folder = widgets.HTML(value=res['_source']['folder'])\n",
    "        file_cell = widgets.HTML(value='1')#res['_source']['file_cell'])\n",
    "        whole_layout = widgets.Layout(display='flex',\n",
    "                        flex_flow='column',\n",
    "                        align_items='stretch',\n",
    "                        border='grey solid 1px')\n",
    "        try:\n",
    "\n",
    "            highlight_list = res['highlight']['string']\n",
    "            highlight_str = ' '.join(highlight_list)\n",
    "            highlight = widgets.HTML(value=str(highlight_list),layout=res_layout)\n",
    "            highlight_ref = create_ref(highlight_list)\n",
    "#             print(localhost_path+highlight_ref)\n",
    "#             ref_path = 'http://localhost:8888/notebooks'+localhost_path + highlight_ref\n",
    "            text = res['_source']['string']\n",
    "            fl = widgets.HTML(value=text[0])\n",
    "            ref_path = 'http://localhost:8888/notebooks' + localhost_path + create_ref(text[0])\n",
    "            ref_path = ref_path.replace(' ','%20') # in case the filename has whitespace between words (example the ipython-notebooks files of yoavram) \n",
    "\n",
    "            url = widgets.HTML(value= '<a href= '+ref_path+' target=\"_blank\"> '+localhost_path+'</a>')\n",
    "            single_result = widgets.VBox([title,score,folder,file_cell,url,highlight],layout=whole_layout)\n",
    "#             print(res['highlight'].keys())            \n",
    "#             print(highlight_str)            \n",
    "        except:\n",
    "            single_result = widgets.VBox([title,score,folder,file_cell,url],layout=whole_layout)\n",
    "        display(single_result)\n"
   ]
  },
  {
   "cell_type": "code",
   "execution_count": 127,
   "metadata": {},
   "outputs": [
    {
     "data": {
      "application/vnd.jupyter.widget-view+json": {
       "model_id": "3a061c51a3694168a3fd277486f218dd",
       "version_major": 2,
       "version_minor": 0
      },
      "text/plain": [
       "Checkbox(value=False, description='Advanced Search')"
      ]
     },
     "metadata": {},
     "output_type": "display_data"
    },
    {
     "data": {
      "application/vnd.jupyter.widget-view+json": {
       "model_id": "f0d847d5c20042fba7786b5bfe4f9db9",
       "version_major": 2,
       "version_minor": 0
      },
      "text/plain": [
       "VBox(children=(HBox(children=(Text(value=''), Button(description='Search', style=ButtonStyle()), Button(descri…"
      ]
     },
     "metadata": {},
     "output_type": "display_data"
    }
   ],
   "source": [
    "search_b_normal.on_click(on_normal_search_clicked)\n",
    "search_b_adv.on_click(on_adv_search_clicked)\n",
    "clear_b.on_click(on_clear_clicked)\n",
    "\n",
    "check_a = widgets.Checkbox(description='markdown')\n",
    "check_b = widgets.Checkbox(description='code')\n",
    "check_c = widgets.Checkbox(description='heading')\n",
    "check_d = widgets.Checkbox(description='display data')\n",
    "check_e = widgets.Checkbox(description='e')\n",
    "row_check = widgets.HBox([check_a,check_b,check_c,check_d,check_e])\n",
    "\n",
    "row_normal = widgets.HBox([normal_text,search_b_normal,clear_b])\n",
    "row_adv = widgets.HBox([markdown,code,modules,search_b_adv,clear_b])\n",
    "row_adv2 = widgets.VBox([row_check,row_adv])\n",
    "row_output = widgets.VBox([output])\n",
    "\n",
    "top_toggle = widgets.Checkbox(description='Advanced Search')\n",
    "top_toggle.observe(switch, names='value')\n",
    "display(top_toggle)\n",
    "\n",
    "normal_text.on_submit(on_normal_search_clicked)\n",
    "code.on_submit(on_adv_search_clicked)\n",
    "markdown.on_submit(on_adv_search_clicked)\n",
    "# modules.on_submit(on_adv_search_clicked)\n",
    "\n",
    "\n",
    "search_display = widgets.VBox(children = [row_normal,row_output])\n",
    "display(search_display)"
   ]
  },
  {
   "cell_type": "code",
   "execution_count": null,
   "metadata": {},
   "outputs": [],
   "source": []
  },
  {
   "cell_type": "code",
   "execution_count": null,
   "metadata": {},
   "outputs": [],
   "source": []
  },
  {
   "cell_type": "code",
   "execution_count": null,
   "metadata": {},
   "outputs": [],
   "source": []
  },
  {
   "cell_type": "code",
   "execution_count": null,
   "metadata": {},
   "outputs": [],
   "source": [
    "# # Text \n",
    "# normal_text = widgets.Text() #description=\"Search\", continuous_update=True)\n",
    "# code = widgets.Text(description=\"Code\")\n",
    "# markdown = widgets.Text(description=\"Markdown\")\n",
    "# modules = widgets.Text(description=\"Modules\")\n",
    "\n",
    "# # Buttons\n",
    "# search_b_normal = widgets.Button(description=\"Search\")\n",
    "# search_b_adv = widgets.Button(description=\"Adv S\")\n",
    "# clear_b = widgets.Button(description=\"Clear\")\n",
    "\n",
    "# output = widgets.Output()\n",
    "\n",
    "\n",
    "# # def on_normal_search_clicked(b):\n",
    "# #     with output:\n",
    "# #         output.clear_output()\n",
    "# #         if normal_text.value == '':\n",
    "# #             print(\"Type a query\")\n",
    "# #         else:\n",
    "# # #             print(query_maker(normal_text.value,normal_text.value,normal_text.value,None))\n",
    "# # #             display_results(multi_match_query(normal_text.value,normal_text.value,normal_text.value,True),20)\n",
    "# #             display_results(multi_match_query(normal_text.value,True),20)\n",
    "\n",
    "# def on_adv_search_clicked(b):\n",
    "#     send_code = code.value\n",
    "#     send_markdown = markdown.value\n",
    "#     send_modules = modules.value\n",
    "#     with output:\n",
    "#         output.clear_output()\n",
    "#         if code.value == \"\" and markdown.value=='' and modules.value=='':\n",
    "#             print(\"Type a query\")\n",
    "#         else:\n",
    "#             if code.value == '':\n",
    "#                 send_code = None\n",
    "#             if markdown.value == '':\n",
    "#                 send_markdown = None\n",
    "#             if modules.value == '':\n",
    "#                 send_modules = None\n",
    "#             print(query_string_query(send_code,send_markdown,send_modules,True))\n",
    "#             display_results(query_string_query(send_code,send_markdown,send_modules,True),20)\n",
    "\n",
    "        \n",
    "# def on_clear_clicked(b):\n",
    "#     with output:\n",
    "#         output.clear_output()\n",
    "#     normal_text.value = ''\n",
    "#     markdown.value = ''\n",
    "#     code.value = ''\n",
    "#     modules.value = ''\n",
    "    \n",
    "        \n",
    "# def switch(check):\n",
    "#     with output:                      # remove if you want results to stay when\n",
    "#         output.clear_output()         # you switch between normal and adv search\n",
    "#     if check['new']:\n",
    "#         search_display.children=[row_adv2,row_output] # --------------- ADV VERANDERD IN ADV2 --------------------\n",
    "#     else:\n",
    "#         search_display.children=[row_normal,row_output]"
   ]
  },
  {
   "cell_type": "code",
   "execution_count": null,
   "metadata": {},
   "outputs": [],
   "source": []
  },
  {
   "cell_type": "code",
   "execution_count": null,
   "metadata": {},
   "outputs": [],
   "source": []
  },
  {
   "cell_type": "code",
   "execution_count": null,
   "metadata": {},
   "outputs": [],
   "source": []
  },
  {
   "cell_type": "code",
   "execution_count": null,
   "metadata": {},
   "outputs": [],
   "source": []
  },
  {
   "cell_type": "code",
   "execution_count": null,
   "metadata": {},
   "outputs": [],
   "source": [
    "# search_b_normal.on_click(on_normal_search_clicked)\n",
    "# # search_b_adv.on_click(on_adv_search_clicked)\n",
    "# clear_b.on_click(on_clear_clicked)\n",
    "\n",
    "# row_normal = widgets.HBox([normal_text,search_b_normal,clear_b])\n",
    "# row_adv = widgets.HBox([markdown,code,modules,search_b_adv,clear_b])\n",
    "# row_output = widgets.VBox([output])\n",
    "\n",
    "# top_toggle = widgets.Checkbox(description='Advanced Search')\n",
    "# top_toggle.observe(switch, names='value')\n",
    "# display(top_toggle)\n",
    "\n",
    "# normal_text.on_submit(on_normal_search_clicked)\n",
    "# code.on_submit(on_adv_search_clicked)\n",
    "# markdown.on_submit(on_adv_search_clicked)\n",
    "# # modules.on_submit(on_adv_search_clicked)\n",
    "\n",
    "\n",
    "# search_display = widgets.VBox(children = [row_normal,row_output])\n",
    "# display(search_display)"
   ]
  },
  {
   "cell_type": "code",
   "execution_count": null,
   "metadata": {},
   "outputs": [],
   "source": [
    "# multi_match_query('hoi',None)"
   ]
  },
  {
   "cell_type": "code",
   "execution_count": null,
   "metadata": {},
   "outputs": [],
   "source": [
    "# HOST = 'http://localhost:9200/'\n",
    "# es = Elasticsearch(hosts=[HOST]) \n",
    "\n",
    "# search_b_normal.on_click(on_normal_search_clicked)\n",
    "# clear_b.on_click(on_clear_clicked)\n",
    "\n",
    "# row_normal = widgets.HBox([normal_text,search_b_normal,clear_b])\n",
    "# row_output = widgets.VBox([output])\n",
    "\n",
    "# normal_text.on_submit(on_normal_search_clicked)\n",
    "\n",
    "# search_display = widgets.VBox(children = [row_normal,row_output])\n",
    "# display(search_display)"
   ]
  },
  {
   "cell_type": "code",
   "execution_count": null,
   "metadata": {},
   "outputs": [],
   "source": [
    "# q = {'query': {'query_string': {'query': '(string:drop column) AND (code:1) AND (markdown:1) AND (stream:1)'}},\n",
    "#  'highlight': {'pre_tags': ['<b>'],\n",
    "#   'post_tags': ['</b>'],\n",
    "#   'order': 'score',\n",
    "#   'fields': {'string': {}}}}\n",
    "\n",
    "# result = es.search(body=q)\n",
    "# result"
   ]
  },
  {
   "cell_type": "code",
   "execution_count": null,
   "metadata": {},
   "outputs": [],
   "source": [
    "# for i in range(len(result['hits']['hits'])): # for all hits\n",
    "#     res = result['hits']['hits'][i]\n",
    "\n",
    "\n",
    "#     title = res['_source']['file']\n",
    "#     folder = res['_source']['folder']\n",
    "#     url_str = res['_source']['location']\n",
    "#     code = res['_source']['code']\n",
    "#     stream = res['_source']['stream']\n",
    "#     markdown = res['_source']['markdown']\n",
    "#     print(title,folder,code,stream,markdown)"
   ]
  },
  {
   "cell_type": "code",
   "execution_count": null,
   "metadata": {},
   "outputs": [],
   "source": [
    "HOST = 'http://localhost:9200/'\n",
    "es = Elasticsearch(hosts=[HOST]) \n",
    "\n",
    "query={\n",
    "  \"query\": {\n",
    "    \"match_all\": {}\n",
    "  }\n",
    "} \n",
    "\n",
    "es.search(body=query)"
   ]
  },
  {
   "cell_type": "code",
   "execution_count": null,
   "metadata": {},
   "outputs": [],
   "source": [
    "q = multi_match_query('numpy',True)\n",
    "offline_es = es.search(body=q)\n",
    "offline_es"
   ]
  }
 ],
 "metadata": {
  "kernelspec": {
   "display_name": "Python 3",
   "language": "python",
   "name": "python3"
  },
  "language_info": {
   "codemirror_mode": {
    "name": "ipython",
    "version": 3
   },
   "file_extension": ".py",
   "mimetype": "text/x-python",
   "name": "python",
   "nbconvert_exporter": "python",
   "pygments_lexer": "ipython3",
   "version": "3.7.4"
  }
 },
 "nbformat": 4,
 "nbformat_minor": 2
}
