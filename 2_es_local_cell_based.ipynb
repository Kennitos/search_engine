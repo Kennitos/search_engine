{
 "cells": [
  {
   "cell_type": "markdown",
   "metadata": {},
   "source": [
    "# Create Elastic search local"
   ]
  },
  {
   "cell_type": "markdown",
   "metadata": {},
   "source": []
  },
  {
   "cell_type": "markdown",
   "metadata": {},
   "source": [
    "### Notes\n",
    "\n",
    "Links:\n",
    "-  url"
   ]
  },
  {
   "cell_type": "markdown",
   "metadata": {},
   "source": [
    "### import"
   ]
  },
  {
   "cell_type": "code",
   "execution_count": 1,
   "metadata": {},
   "outputs": [],
   "source": [
    "# imports\n",
    "import os\n",
    "import json\n",
    "import re\n",
    "\n",
    "import pandas as pd\n",
    "import numpy as np\n",
    "\n",
    "from elasticsearch import Elasticsearch\n",
    "from tqdm import tqdm_notebook"
   ]
  },
  {
   "cell_type": "markdown",
   "metadata": {},
   "source": [
    "### functions"
   ]
  },
  {
   "cell_type": "code",
   "execution_count": 16,
   "metadata": {},
   "outputs": [],
   "source": [
    "def count_ipynb(folder):\n",
    "    path = os.getcwd()+'\\\\'+folder\n",
    "    try:\n",
    "        dir_list = os.listdir(path)\n",
    "    except:\n",
    "        return \"this repository doesn't exist\"\n",
    "\n",
    "    file_id = 0\n",
    "    for root, dirs, files in os.walk(path):\n",
    "        for file in files:\n",
    "            if file.endswith(\".ipynb\"):\n",
    "                file_id += 1\n",
    "    return file_id\n",
    "\n",
    "\n",
    "def code_output(cell,temp_dict):\n",
    "    \"\"\"\n",
    "    Explanation function\n",
    "    \"\"\"\n",
    "    if cell['outputs']==[]:\n",
    "        temp_dict['output_type'] = []\n",
    "        temp_dict['output'] = []\n",
    "    else:\n",
    "        if type(cell['outputs']) is list and len(cell['outputs'])>2:\n",
    "#             print(len(cell['outputs']),temp_dict['location'],temp_dict['file_cell'],cell['outputs'])\n",
    "            pass\n",
    "        output_type = cell['outputs'][0]['output_type']\n",
    "        temp_dict['output_type'] = output_type\n",
    "        if output_type == 'stream':\n",
    "            temp_dict['output'] = cell['outputs'][0]['text']\n",
    "        elif output_type == 'error':\n",
    "            temp_dict['output'] = cell['outputs'][0]['traceback']\n",
    "        elif temp_dict['output_type'] == 'display_data':\n",
    "            temp_dict['output'] = 'displayed data'\n",
    "        elif temp_dict['output_type'] == 'pyout':\n",
    "#             temp_dict['output'] = cell['outputs'][0]['html']\n",
    "            temp_dict['output'] = 'unkown'\n",
    "        elif 'data' in cell['outputs'][0].keys():\n",
    "            temp_dict['output'] = list(cell['outputs'][0]['data'].values())\n",
    "        elif 'text' in cell['outputs'][0].keys():\n",
    "            temp_dict['output'] = cell['outputs'][0]['text']\n",
    "        elif 'ename' in cell['outputs'][0].keys():\n",
    "            temp_dict['output'] = cell['outputs'][0]['ename']+cell['outputs'][0]['evalue']\n",
    "        else:\n",
    "            temp_dict['output'] = 'unknown'\n",
    "#             print(temp_dict['location'],temp_dict['file_cell'],cell)\n",
    "\n",
    "    return temp_dict\n",
    "\n",
    "\n",
    "def read_ipynb_cell(cell_id,cell_dict,file,folder,location,repo,user):\n",
    "    \"\"\"\n",
    "    Explanation function\n",
    "    \"\"\"\n",
    "    with open(location,encoding=\"utf8\") as notebook:\n",
    "        try: \n",
    "            data = json.load(notebook) #does the file have a correct json format\n",
    "        except Exception as e:\n",
    "            print(e,file)\n",
    "            return cell_id,cell_dict\n",
    "        \n",
    "        file_cell = 0\n",
    "        nbformat = data['nbformat']\n",
    "        if nbformat == 4: # current nbformat\n",
    "            data_cells =  data['cells']\n",
    "        elif nbformat == 3: # old nbformat\n",
    "            data_cells =  data['worksheets'][0]['cells']\n",
    "        elif nbformat == 2: # even older format\n",
    "            data_cells = data['worksheets'][0]['cells']\n",
    "\n",
    "        for cell in data_cells:\n",
    "            temp_dict = {}\n",
    "            if cell['cell_type'] == 'code' and (nbformat == 3 or nbformat == 2): #cell['source'] doesn't exist within this condition, use cell['input']\n",
    "                text = cell['input']\n",
    "            else:\n",
    "                text = cell['source']\n",
    "            clean_cell = list(map(lambda s: s.strip(), text)) #remove the '\\n' at the end of each string in the list         \n",
    "            single_string = ' '.join(clean_cell)\n",
    "            lines = len(clean_cell)\n",
    "\n",
    "            temp_dict['file_cell'] = file_cell\n",
    "            temp_dict['file'] = file\n",
    "            temp_dict['nbformat'] = data['nbformat']\n",
    "            temp_dict['folder'] = folder\n",
    "            temp_dict['user'] = user\n",
    "            temp_dict['repo'] =  repo\n",
    "            temp_dict['location'] = location\n",
    "            temp_dict['string'] = clean_cell\n",
    "#             temp_dict['char'] = single_string\n",
    "            temp_dict['lines'] = lines\n",
    "            temp_dict['cell_type'] = cell['cell_type']\n",
    "            if cell['cell_type'] == 'code':\n",
    "                temp_dict = code_output(cell,temp_dict)\n",
    "\n",
    "            cell_dict[cell_id] = temp_dict\n",
    "            cell_id += 1\n",
    "            file_cell += 1\n",
    "            \n",
    "    return cell_id,cell_dict\n",
    "\n",
    "\n",
    "def files_to_dict(file_dict):\n",
    "    \"\"\"\n",
    "    Explanation function\n",
    "    \"\"\"\n",
    "    cell_id = 0\n",
    "    cell_dict = {}\n",
    "\n",
    "    for file in file_dict.keys():\n",
    "        file_name = file_dict[file]['file']\n",
    "        user = file_dict[file]['user']\n",
    "        folder = file_dict[file]['folder']\n",
    "        location = file_dict[file]['location']\n",
    "        repo = file_dict[file]['repo']\n",
    "        #kan ik dit niet in één regel schrijven, ff controleren nog bijv a,b,c = dict.values()\n",
    "\n",
    "        cell_id_dict = read_ipynb_cell(cell_id,cell_dict,file_name,folder,location,repo,user)\n",
    "        cell_id = cell_id_dict[0]\n",
    "        cell_dict = cell_id_dict[1]\n",
    "    return cell_id,cell_dict\n",
    "\n",
    "\n",
    "def rec_to_actions(df):\n",
    "    for record in df.to_dict(orient=\"records\"):\n",
    "        yield ('{ \"index\" : { \"_index\" : \"%s\", \"_type\" : \"%s\" }}'% (INDEX, TYPE))\n",
    "        yield (json.dumps(record, default=int))\n",
    "      \n",
    "\n",
    "def index_marks(nrows, chunk_size):\n",
    "    return range(1 * chunk_size, (nrows // chunk_size + 1) * chunk_size, chunk_size)\n",
    "\n",
    "\n",
    "def split(dfm, chunk_size):\n",
    "    indices = index_marks(dfm.shape[0], chunk_size)\n",
    "    return np.split(dfm, indices)\n",
    "\n",
    "\n",
    "def decompose_folder_name(folder_name):\n",
    "    r1 = re.compile(\"([a-zA-Z0-9_-]+)\")\n",
    "    decompose = r1.findall(folder_name)\n",
    "    user,repo = decompose[0],decompose[1]\n",
    "    return user,repo\n",
    "\n",
    "def create_SE_from_folder(es,folder,file_id):\n",
    "    \"\"\"\n",
    "    Explenation\n",
    "    \"\"\"\n",
    "    cwd = os.getcwd()\n",
    "    path = cwd+'\\\\'+folder\n",
    "    print(path)\n",
    "    file_dict = {}\n",
    "    \n",
    "    for root, dirs, files in os.walk(path):\n",
    "        for file in files:\n",
    "            if file.endswith(\".ipynb\"):\n",
    "                location = os.path.join(root,file)\n",
    "#                 fn = root.split('\\\\')[6] # root verschilt per pc, documents\\\\test_thesis vs documents\\\\uni\\\\jaarx\\\\test_thesis\n",
    "                folder_name = root.split(folder)[1].split('\\\\')[1]\n",
    "                user,repo = decompose_folder_name(folder_name)\n",
    "                temp_dict = {}\n",
    "                temp_dict['file'] = file\n",
    "                temp_dict['folder'] = root.split('\\\\')[-1]\n",
    "                temp_dict['location'] = os.path.join(root,file)\n",
    "                temp_dict['user'] = user\n",
    "                temp_dict['repo'] = repo\n",
    "                \n",
    "                file_dict[file_id] = temp_dict\n",
    "                file_id += 1\n",
    "    \n",
    "    # CREATE DICT FOR ALL CELLS\n",
    "    cell_dict = files_to_dict(file_dict)[1]\n",
    " \n",
    "\n",
    "    # CREATE DATAFRAME FROM DICT\n",
    "    cell_df = pd.DataFrame.from_dict(cell_dict,orient='index')\n",
    "    cell_df.index = cell_df.index.set_names(['cell_id'])\n",
    "    cell_df = cell_df.fillna('empty').reset_index()\n",
    "    return es,file_id,cell_df\n",
    "    \n",
    "    # PUT DATAFRAME INTO ELASTIC SEARCH\n",
    "    for chuck in tqdm_notebook(split(cell_df, 1000)): # r = es.bulk(rec_to_actions(cell_df))\n",
    "        try:\n",
    "            r = es.bulk(rec_to_actions(chuck))\n",
    "        except Exception as e:\n",
    "            print('Bulk failed at df cell_id:',chuck.cell_id.iloc[0],'-',chuck.cell_id.iloc[-1])\n",
    "    return es,file_id,cell_df\n",
    "#     return cell_df,es,file_id"
   ]
  },
  {
   "cell_type": "markdown",
   "metadata": {},
   "source": [
    "### Create local elastic search variable"
   ]
  },
  {
   "cell_type": "markdown",
   "metadata": {},
   "source": [
    "#### CHEATSHEET Elastic Search curl's"
   ]
  },
  {
   "cell_type": "code",
   "execution_count": 8,
   "metadata": {},
   "outputs": [
    {
     "name": "stdout",
     "output_type": "stream",
     "text": [
      "health status index uuid pri rep docs.count docs.deleted store.size pri.store.size\n"
     ]
    },
    {
     "name": "stderr",
     "output_type": "stream",
     "text": [
      "  % Total    % Received % Xferd  Average Speed   Time    Time     Time  Current\n",
      "                                 Dload  Upload   Total   Spent    Left  Speed\n",
      "\n",
      "  0     0    0     0    0     0      0      0 --:--:-- --:--:-- --:--:--     0\n",
      "100    83  100    83    0     0   8300      0 --:--:-- --:--:-- --:--:--  8300\n"
     ]
    }
   ],
   "source": [
    "# !curl \"http://localhost:9200/test\"\n",
    "# !curl -XDELETE \"localhost:9200/repos\"\n",
    "# !curl -XPOST \"http://localhost:9200/_shutdown\"\n",
    "\n",
    "!curl \"http://localhost:9200/_cat/indices?v\""
   ]
  },
  {
   "cell_type": "markdown",
   "metadata": {},
   "source": [
    "### Count .ipynb files in current repository"
   ]
  },
  {
   "cell_type": "code",
   "execution_count": 5,
   "metadata": {},
   "outputs": [
    {
     "data": {
      "text/plain": [
       "(257, 3108)"
      ]
     },
     "execution_count": 5,
     "metadata": {},
     "output_type": "execute_result"
    }
   ],
   "source": [
    "count_ipynb('repos_sample'),count_ipynb('repos')"
   ]
  },
  {
   "cell_type": "markdown",
   "metadata": {},
   "source": [
    "### Put repositories into elastic search"
   ]
  },
  {
   "cell_type": "code",
   "execution_count": 6,
   "metadata": {},
   "outputs": [],
   "source": [
    "HOST = 'http://localhost:9200/'\n",
    "es = Elasticsearch(hosts=[HOST]) \n",
    "\n",
    "\n",
    "INDEX = \"repos_sample\"\n",
    "TYPE = \"record\""
   ]
  },
  {
   "cell_type": "code",
   "execution_count": 17,
   "metadata": {},
   "outputs": [
    {
     "name": "stdout",
     "output_type": "stream",
     "text": [
      "C:\\Users\\kenne\\Documents\\test_thesis\\repos\n",
      "Expecting value: line 1 column 1 (char 0) index.ipynb\n",
      "'utf-8' codec can't decode byte 0x89 in position 0: invalid start byte ml3_3d_lot.ipynb\n",
      "Expecting property name enclosed in double quotes: line 26 column 1 (char 418) genome lookup.ipynb\n",
      "Wall time: 27.6 s\n"
     ]
    },
    {
     "data": {
      "text/html": [
       "<div>\n",
       "<style scoped>\n",
       "    .dataframe tbody tr th:only-of-type {\n",
       "        vertical-align: middle;\n",
       "    }\n",
       "\n",
       "    .dataframe tbody tr th {\n",
       "        vertical-align: top;\n",
       "    }\n",
       "\n",
       "    .dataframe thead th {\n",
       "        text-align: right;\n",
       "    }\n",
       "</style>\n",
       "<table border=\"1\" class=\"dataframe\">\n",
       "  <thead>\n",
       "    <tr style=\"text-align: right;\">\n",
       "      <th></th>\n",
       "      <th>cell_id</th>\n",
       "      <th>file_cell</th>\n",
       "      <th>file</th>\n",
       "      <th>nbformat</th>\n",
       "      <th>folder</th>\n",
       "      <th>user</th>\n",
       "      <th>repo</th>\n",
       "      <th>location</th>\n",
       "      <th>string</th>\n",
       "      <th>lines</th>\n",
       "      <th>cell_type</th>\n",
       "      <th>output_type</th>\n",
       "      <th>output</th>\n",
       "    </tr>\n",
       "  </thead>\n",
       "  <tbody>\n",
       "    <tr>\n",
       "      <th>0</th>\n",
       "      <td>0</td>\n",
       "      <td>0</td>\n",
       "      <td>Montreal Python 69.ipynb</td>\n",
       "      <td>4</td>\n",
       "      <td>(abbas-taher)Montreal-Python-69</td>\n",
       "      <td>abbas-taher</td>\n",
       "      <td>Montreal-Python-69</td>\n",
       "      <td>C:\\Users\\kenne\\Documents\\test_thesis\\repos\\(ab...</td>\n",
       "      <td>[## Montreal Python 69 - Tutorial, ### By Abba...</td>\n",
       "      <td>14</td>\n",
       "      <td>markdown</td>\n",
       "      <td>empty</td>\n",
       "      <td>empty</td>\n",
       "    </tr>\n",
       "    <tr>\n",
       "      <th>1</th>\n",
       "      <td>1</td>\n",
       "      <td>1</td>\n",
       "      <td>Montreal Python 69.ipynb</td>\n",
       "      <td>4</td>\n",
       "      <td>(abbas-taher)Montreal-Python-69</td>\n",
       "      <td>abbas-taher</td>\n",
       "      <td>Montreal-Python-69</td>\n",
       "      <td>C:\\Users\\kenne\\Documents\\test_thesis\\repos\\(ab...</td>\n",
       "      <td>[## Problem Statment: \"Aggregate Interest by I...</td>\n",
       "      <td>6</td>\n",
       "      <td>markdown</td>\n",
       "      <td>empty</td>\n",
       "      <td>empty</td>\n",
       "    </tr>\n",
       "    <tr>\n",
       "      <th>2</th>\n",
       "      <td>2</td>\n",
       "      <td>2</td>\n",
       "      <td>Montreal Python 69.ipynb</td>\n",
       "      <td>4</td>\n",
       "      <td>(abbas-taher)Montreal-Python-69</td>\n",
       "      <td>abbas-taher</td>\n",
       "      <td>Montreal-Python-69</td>\n",
       "      <td>C:\\Users\\kenne\\Documents\\test_thesis\\repos\\(ab...</td>\n",
       "      <td>[import pandas as pd, pd.set_option('display.m...</td>\n",
       "      <td>6</td>\n",
       "      <td>code</td>\n",
       "      <td>execute_result</td>\n",
       "      <td>[[&lt;div&gt;\\n, &lt;style&gt;\\n,     .dataframe thead tr:...</td>\n",
       "    </tr>\n",
       "    <tr>\n",
       "      <th>3</th>\n",
       "      <td>3</td>\n",
       "      <td>3</td>\n",
       "      <td>Montreal Python 69.ipynb</td>\n",
       "      <td>4</td>\n",
       "      <td>(abbas-taher)Montreal-Python-69</td>\n",
       "      <td>abbas-taher</td>\n",
       "      <td>Montreal-Python-69</td>\n",
       "      <td>C:\\Users\\kenne\\Documents\\test_thesis\\repos\\(ab...</td>\n",
       "      <td>[### Expected Output after Aggregating by ID:]</td>\n",
       "      <td>1</td>\n",
       "      <td>markdown</td>\n",
       "      <td>empty</td>\n",
       "      <td>empty</td>\n",
       "    </tr>\n",
       "    <tr>\n",
       "      <th>4</th>\n",
       "      <td>4</td>\n",
       "      <td>4</td>\n",
       "      <td>Montreal Python 69.ipynb</td>\n",
       "      <td>4</td>\n",
       "      <td>(abbas-taher)Montreal-Python-69</td>\n",
       "      <td>abbas-taher</td>\n",
       "      <td>Montreal-Python-69</td>\n",
       "      <td>C:\\Users\\kenne\\Documents\\test_thesis\\repos\\(ab...</td>\n",
       "      <td>[import pandas as pd, pd.set_option('display.m...</td>\n",
       "      <td>8</td>\n",
       "      <td>code</td>\n",
       "      <td>execute_result</td>\n",
       "      <td>[[&lt;div&gt;\\n, &lt;style&gt;\\n,     .dataframe thead tr:...</td>\n",
       "    </tr>\n",
       "    <tr>\n",
       "      <th>...</th>\n",
       "      <td>...</td>\n",
       "      <td>...</td>\n",
       "      <td>...</td>\n",
       "      <td>...</td>\n",
       "      <td>...</td>\n",
       "      <td>...</td>\n",
       "      <td>...</td>\n",
       "      <td>...</td>\n",
       "      <td>...</td>\n",
       "      <td>...</td>\n",
       "      <td>...</td>\n",
       "      <td>...</td>\n",
       "      <td>...</td>\n",
       "    </tr>\n",
       "    <tr>\n",
       "      <th>116259</th>\n",
       "      <td>116259</td>\n",
       "      <td>1</td>\n",
       "      <td>Thin-layer-chromatography-analysis.ipynb</td>\n",
       "      <td>4</td>\n",
       "      <td>thin-layer-blob-demo</td>\n",
       "      <td>zmughal</td>\n",
       "      <td>zmughal-iperl-notebooks</td>\n",
       "      <td>C:\\Users\\kenne\\Documents\\test_thesis\\repos\\(zm...</td>\n",
       "      <td>[use Modern::Perl;, use PDL;, use PDL::Image2D...</td>\n",
       "      <td>20</td>\n",
       "      <td>code</td>\n",
       "      <td>display_data</td>\n",
       "      <td>displayed data</td>\n",
       "    </tr>\n",
       "    <tr>\n",
       "      <th>116260</th>\n",
       "      <td>116260</td>\n",
       "      <td>2</td>\n",
       "      <td>Thin-layer-chromatography-analysis.ipynb</td>\n",
       "      <td>4</td>\n",
       "      <td>thin-layer-blob-demo</td>\n",
       "      <td>zmughal</td>\n",
       "      <td>zmughal-iperl-notebooks</td>\n",
       "      <td>C:\\Users\\kenne\\Documents\\test_thesis\\repos\\(zm...</td>\n",
       "      <td>[my $grey_img = $tlc_img-&gt;float-&gt;rgbtogr; # 0 ...</td>\n",
       "      <td>2</td>\n",
       "      <td>code</td>\n",
       "      <td>display_data</td>\n",
       "      <td>displayed data</td>\n",
       "    </tr>\n",
       "    <tr>\n",
       "      <th>116261</th>\n",
       "      <td>116261</td>\n",
       "      <td>3</td>\n",
       "      <td>Thin-layer-chromatography-analysis.ipynb</td>\n",
       "      <td>4</td>\n",
       "      <td>thin-layer-blob-demo</td>\n",
       "      <td>zmughal</td>\n",
       "      <td>zmughal-iperl-notebooks</td>\n",
       "      <td>C:\\Users\\kenne\\Documents\\test_thesis\\repos\\(zm...</td>\n",
       "      <td>[my $bin_img = $grey_img &lt; 255/2; # simple thr...</td>\n",
       "      <td>3</td>\n",
       "      <td>code</td>\n",
       "      <td>display_data</td>\n",
       "      <td>displayed data</td>\n",
       "    </tr>\n",
       "    <tr>\n",
       "      <th>116262</th>\n",
       "      <td>116262</td>\n",
       "      <td>4</td>\n",
       "      <td>Thin-layer-chromatography-analysis.ipynb</td>\n",
       "      <td>4</td>\n",
       "      <td>thin-layer-blob-demo</td>\n",
       "      <td>zmughal</td>\n",
       "      <td>zmughal-iperl-notebooks</td>\n",
       "      <td>C:\\Users\\kenne\\Documents\\test_thesis\\repos\\(zm...</td>\n",
       "      <td>[my $cc_img = $bin_img-&gt;cc8compt; # connected ...</td>\n",
       "      <td>8</td>\n",
       "      <td>code</td>\n",
       "      <td>execute_result</td>\n",
       "      <td>[[PDL: Float D [2627,488]\\n, -----------------...</td>\n",
       "    </tr>\n",
       "    <tr>\n",
       "      <th>116263</th>\n",
       "      <td>116263</td>\n",
       "      <td>5</td>\n",
       "      <td>Thin-layer-chromatography-analysis.ipynb</td>\n",
       "      <td>4</td>\n",
       "      <td>thin-layer-blob-demo</td>\n",
       "      <td>zmughal</td>\n",
       "      <td>zmughal-iperl-notebooks</td>\n",
       "      <td>C:\\Users\\kenne\\Documents\\test_thesis\\repos\\(zm...</td>\n",
       "      <td>[my $lut = pdl( ( lut_data('heat') )[0..2] )-&gt;...</td>\n",
       "      <td>3</td>\n",
       "      <td>code</td>\n",
       "      <td>display_data</td>\n",
       "      <td>displayed data</td>\n",
       "    </tr>\n",
       "  </tbody>\n",
       "</table>\n",
       "<p>116264 rows × 13 columns</p>\n",
       "</div>"
      ],
      "text/plain": [
       "        cell_id  file_cell                                      file  \\\n",
       "0             0          0                  Montreal Python 69.ipynb   \n",
       "1             1          1                  Montreal Python 69.ipynb   \n",
       "2             2          2                  Montreal Python 69.ipynb   \n",
       "3             3          3                  Montreal Python 69.ipynb   \n",
       "4             4          4                  Montreal Python 69.ipynb   \n",
       "...         ...        ...                                       ...   \n",
       "116259   116259          1  Thin-layer-chromatography-analysis.ipynb   \n",
       "116260   116260          2  Thin-layer-chromatography-analysis.ipynb   \n",
       "116261   116261          3  Thin-layer-chromatography-analysis.ipynb   \n",
       "116262   116262          4  Thin-layer-chromatography-analysis.ipynb   \n",
       "116263   116263          5  Thin-layer-chromatography-analysis.ipynb   \n",
       "\n",
       "        nbformat                           folder         user  \\\n",
       "0              4  (abbas-taher)Montreal-Python-69  abbas-taher   \n",
       "1              4  (abbas-taher)Montreal-Python-69  abbas-taher   \n",
       "2              4  (abbas-taher)Montreal-Python-69  abbas-taher   \n",
       "3              4  (abbas-taher)Montreal-Python-69  abbas-taher   \n",
       "4              4  (abbas-taher)Montreal-Python-69  abbas-taher   \n",
       "...          ...                              ...          ...   \n",
       "116259         4             thin-layer-blob-demo      zmughal   \n",
       "116260         4             thin-layer-blob-demo      zmughal   \n",
       "116261         4             thin-layer-blob-demo      zmughal   \n",
       "116262         4             thin-layer-blob-demo      zmughal   \n",
       "116263         4             thin-layer-blob-demo      zmughal   \n",
       "\n",
       "                           repo  \\\n",
       "0            Montreal-Python-69   \n",
       "1            Montreal-Python-69   \n",
       "2            Montreal-Python-69   \n",
       "3            Montreal-Python-69   \n",
       "4            Montreal-Python-69   \n",
       "...                         ...   \n",
       "116259  zmughal-iperl-notebooks   \n",
       "116260  zmughal-iperl-notebooks   \n",
       "116261  zmughal-iperl-notebooks   \n",
       "116262  zmughal-iperl-notebooks   \n",
       "116263  zmughal-iperl-notebooks   \n",
       "\n",
       "                                                 location  \\\n",
       "0       C:\\Users\\kenne\\Documents\\test_thesis\\repos\\(ab...   \n",
       "1       C:\\Users\\kenne\\Documents\\test_thesis\\repos\\(ab...   \n",
       "2       C:\\Users\\kenne\\Documents\\test_thesis\\repos\\(ab...   \n",
       "3       C:\\Users\\kenne\\Documents\\test_thesis\\repos\\(ab...   \n",
       "4       C:\\Users\\kenne\\Documents\\test_thesis\\repos\\(ab...   \n",
       "...                                                   ...   \n",
       "116259  C:\\Users\\kenne\\Documents\\test_thesis\\repos\\(zm...   \n",
       "116260  C:\\Users\\kenne\\Documents\\test_thesis\\repos\\(zm...   \n",
       "116261  C:\\Users\\kenne\\Documents\\test_thesis\\repos\\(zm...   \n",
       "116262  C:\\Users\\kenne\\Documents\\test_thesis\\repos\\(zm...   \n",
       "116263  C:\\Users\\kenne\\Documents\\test_thesis\\repos\\(zm...   \n",
       "\n",
       "                                                   string  lines cell_type  \\\n",
       "0       [## Montreal Python 69 - Tutorial, ### By Abba...     14  markdown   \n",
       "1       [## Problem Statment: \"Aggregate Interest by I...      6  markdown   \n",
       "2       [import pandas as pd, pd.set_option('display.m...      6      code   \n",
       "3          [### Expected Output after Aggregating by ID:]      1  markdown   \n",
       "4       [import pandas as pd, pd.set_option('display.m...      8      code   \n",
       "...                                                   ...    ...       ...   \n",
       "116259  [use Modern::Perl;, use PDL;, use PDL::Image2D...     20      code   \n",
       "116260  [my $grey_img = $tlc_img->float->rgbtogr; # 0 ...      2      code   \n",
       "116261  [my $bin_img = $grey_img < 255/2; # simple thr...      3      code   \n",
       "116262  [my $cc_img = $bin_img->cc8compt; # connected ...      8      code   \n",
       "116263  [my $lut = pdl( ( lut_data('heat') )[0..2] )->...      3      code   \n",
       "\n",
       "           output_type                                             output  \n",
       "0                empty                                              empty  \n",
       "1                empty                                              empty  \n",
       "2       execute_result  [[<div>\\n, <style>\\n,     .dataframe thead tr:...  \n",
       "3                empty                                              empty  \n",
       "4       execute_result  [[<div>\\n, <style>\\n,     .dataframe thead tr:...  \n",
       "...                ...                                                ...  \n",
       "116259    display_data                                     displayed data  \n",
       "116260    display_data                                     displayed data  \n",
       "116261    display_data                                     displayed data  \n",
       "116262  execute_result  [[PDL: Float D [2627,488]\\n, -----------------...  \n",
       "116263    display_data                                     displayed data  \n",
       "\n",
       "[116264 rows x 13 columns]"
      ]
     },
     "execution_count": 17,
     "metadata": {},
     "output_type": "execute_result"
    }
   ],
   "source": [
    "%%time\n",
    "es=1\n",
    "gallery_es,file_id,gallery_df = create_SE_from_folder(es,'repos',0)\n",
    "gallery_df"
   ]
  },
  {
   "cell_type": "code",
   "execution_count": 8,
   "metadata": {
    "scrolled": true
   },
   "outputs": [
    {
     "name": "stdout",
     "output_type": "stream",
     "text": [
      "health status index        uuid                   pri rep docs.count docs.deleted store.size pri.store.size\n",
      "yellow open   repos_sample 4MT5-nh4T-KzwZvdjVF6GA   1   1       6671            0     41.1mb         41.1mb\n"
     ]
    },
    {
     "name": "stderr",
     "output_type": "stream",
     "text": [
      "  % Total    % Received % Xferd  Average Speed   Time    Time     Time  Current\n",
      "                                 Dload  Upload   Total   Spent    Left  Speed\n",
      "\n",
      "  0     0    0     0    0     0      0      0 --:--:-- --:--:-- --:--:--     0\n",
      "100   216  100   216    0     0   8000      0 --:--:-- --:--:-- --:--:--  8307\n"
     ]
    }
   ],
   "source": [
    "# check if dataframe succesfolly on Elastic Search\n",
    "!curl \"http://localhost:9200/_cat/indices?v\""
   ]
  },
  {
   "cell_type": "code",
   "execution_count": null,
   "metadata": {},
   "outputs": [],
   "source": []
  },
  {
   "cell_type": "code",
   "execution_count": null,
   "metadata": {},
   "outputs": [],
   "source": []
  },
  {
   "cell_type": "code",
   "execution_count": null,
   "metadata": {
    "scrolled": true
   },
   "outputs": [],
   "source": []
  },
  {
   "cell_type": "code",
   "execution_count": null,
   "metadata": {},
   "outputs": [],
   "source": [
    "#             return cell_id,cell_dict"
   ]
  },
  {
   "cell_type": "code",
   "execution_count": null,
   "metadata": {},
   "outputs": [],
   "source": []
  },
  {
   "cell_type": "code",
   "execution_count": null,
   "metadata": {},
   "outputs": [],
   "source": [
    "# file_dict = gallery_single_df\n",
    "# cell_id = 0\n",
    "# cell_dict = {}\n",
    "\n",
    "# for file_id in file_dict.keys():\n",
    "#     try:\n",
    "#         file_name = file_dict[file_id]['file']\n",
    "#         user = file_dict[file_id]['user']\n",
    "#         folder = file_dict[file_id]['folder']\n",
    "#         location = file_dict[file_id]['location']\n",
    "#         repo = file_dict[file_id]['repo']\n",
    "\n",
    "#         cell_id_dict = read_ipynb_cell(cell_id,cell_dict,file_name,folder,location,repo,user)\n",
    "#         cell_id = cell_id_dict[0]\n",
    "#         cell_dict = cell_id_dict[1]\n",
    "\n",
    "#     except Exception as e:\n",
    "#         print(e,file_dict[file_id])\n",
    "# #             #kan ik dit niet in één regel schrijven, ff controleren nog bijv a,b,c = dict.values()\n",
    "            \n",
    "# #             cell_id_dict = read_ipynb_cell(cell_id,cell_dict,file_name,folder,location,repo,'a')\n",
    "# #             cell_id = cell_id_dict[0]\n",
    "# #             cell_dict = cell_id_dict[1]\n",
    "# #             return cell_dict\n",
    "# #         except Exception as e:\n",
    "# #             print(e)\n",
    "# # #             print(\"failed for file:\",cell_dict[file]['file'],cell_dict[file])\n",
    "\n",
    "# #     return cell_id,cell_dict"
   ]
  },
  {
   "cell_type": "code",
   "execution_count": null,
   "metadata": {},
   "outputs": [],
   "source": [
    "# read_ipynb_cell(0,\n",
    "#                 {},\n",
    "#                 'genome lookup.ipynb',\n",
    "#                 '(yoavram)ipython-notebooks',\n",
    "#                 'C:\\\\Users\\\\kenne\\\\Documents\\\\test_thesis\\\\repos_sample\\\\(yoavram)ipython-notebooks\\\\genome lookup.ipynb',\n",
    "#                 'ipython-notebooks',\n",
    "#                 'yoavram')\n",
    "\n",
    "\n",
    "# read_ipynb_cell(0,\n",
    "#                 {},\n",
    "#                 'genome lookup.ipynb',\n",
    "#                 '(yoavram)ipython-notebooks',\n",
    "#                 'C:\\\\Users\\\\kenne\\\\Documents\\\\test_thesis\\\\repos_sample\\\\(yoavram)ipython-notebooks\\\\genome lookup.ipynb',\n",
    "#                 'ipython-notebooks',\n",
    "#                 'yoavram')"
   ]
  },
  {
   "cell_type": "code",
   "execution_count": null,
   "metadata": {},
   "outputs": [],
   "source": [
    "# loc_str = 'C:\\\\Documents\\\\test_thesis\\\\repos_sample\\\\math_and_suco\\\\folder2\\\\file'\n",
    "\n",
    "# given = 'repos_sample'\n",
    "# loc_str.split(given)[1].split('\\\\')[1]"
   ]
  },
  {
   "cell_type": "code",
   "execution_count": 27,
   "metadata": {},
   "outputs": [],
   "source": [
    "# for chuck in split(gallery_df,1000):\n",
    "#     print(chuck.cell_id.iloc[0],chuck.cell_id.iloc[-1])\n",
    "    \n",
    "    \n",
    "# # gallery_df.iloc[0:3]"
   ]
  },
  {
   "cell_type": "code",
   "execution_count": null,
   "metadata": {},
   "outputs": [],
   "source": []
  },
  {
   "cell_type": "code",
   "execution_count": null,
   "metadata": {},
   "outputs": [],
   "source": []
  },
  {
   "cell_type": "code",
   "execution_count": null,
   "metadata": {
    "scrolled": true
   },
   "outputs": [],
   "source": [
    "# %%time\n",
    "\n",
    "# gallery_single_df = create_SE_from_folder(es,'repos_sample',0)\n",
    "# gallery_single_df"
   ]
  },
  {
   "cell_type": "code",
   "execution_count": null,
   "metadata": {
    "scrolled": false
   },
   "outputs": [],
   "source": [
    "# gallery_single_df[(gallery_single_df.file==\"Let's Make a Barchart.ipynb\") & (gallery_single_df.cell_type==\"code\")]\n",
    "# # gallery_single_df.iloc[431].location"
   ]
  },
  {
   "cell_type": "code",
   "execution_count": null,
   "metadata": {
    "scrolled": true
   },
   "outputs": [],
   "source": [
    "# gallery_single_df.iloc[434].string"
   ]
  },
  {
   "cell_type": "code",
   "execution_count": null,
   "metadata": {},
   "outputs": [],
   "source": [
    "# gallery_single_df.iloc[434].output"
   ]
  },
  {
   "cell_type": "code",
   "execution_count": null,
   "metadata": {},
   "outputs": [],
   "source": [
    "# # get max cell in a ipynb file \n",
    "# file_name = 'diginorm.ipynb'\n",
    "# gallery_single_df[gallery_single_df.file==file_name].file_cell.max()"
   ]
  },
  {
   "cell_type": "code",
   "execution_count": null,
   "metadata": {},
   "outputs": [],
   "source": [
    "# for chuck in tqdm_notebook(split(gallery_single_df, 500)):\n",
    "#     try:\n",
    "#         r = es.bulk(rec_to_actions(chuck))\n",
    "#     except:\n",
    "#         print('failed, skip this df')"
   ]
  },
  {
   "cell_type": "code",
   "execution_count": null,
   "metadata": {},
   "outputs": [],
   "source": [
    "# !curl \"http://localhost:9200/_cat/indices?v\""
   ]
  },
  {
   "cell_type": "markdown",
   "metadata": {},
   "source": [
    "### Put github repositories into elastic search"
   ]
  },
  {
   "cell_type": "code",
   "execution_count": null,
   "metadata": {},
   "outputs": [],
   "source": [
    "# folder = 'repos'\n",
    "# path = path = os.getcwd()+'//'+folder\n",
    "# dir_list = os.listdir(path)\n",
    "# file_id = 0\n",
    "# gallery_repo_df = None\n",
    "\n",
    "# for repo in tqdm_notebook(dir_list):\n",
    "#     try:\n",
    "#         df = create_SE_from_folder(repo,es,folder,file_id)\n",
    "\n",
    "#         if gallery_repo_df is None:\n",
    "#             gallery_repo_df = df\n",
    "#         else:\n",
    "#             gallery_repo_df = pd.concat([gallery_repo_df,df])\n",
    "#         file_id = 0\n",
    "#     except Exception as e:\n",
    "#         print(e,repo)\n",
    "\n",
    "# gallery_repo_df   \n",
    "# # cell_df,es,file_id"
   ]
  },
  {
   "cell_type": "code",
   "execution_count": null,
   "metadata": {},
   "outputs": [],
   "source": [
    "# HOST = 'http://localhost:9200/'\n",
    "# es = Elasticsearch(hosts=[HOST]) \n",
    "\n",
    "\n",
    "# INDEX = \"gallery_repos\"\n",
    "# TYPE = \"record\""
   ]
  },
  {
   "cell_type": "code",
   "execution_count": null,
   "metadata": {},
   "outputs": [],
   "source": [
    "# for chuck in tqdm_notebook(split(gallery_repo_df, 500)):\n",
    "#     try:\n",
    "#         r = es.bulk(rec_to_actions(chuck))\n",
    "#     except:\n",
    "#         print('failed, skip this df')"
   ]
  },
  {
   "cell_type": "code",
   "execution_count": null,
   "metadata": {},
   "outputs": [],
   "source": [
    "# !curl \"http://localhost:9200/_cat/indices?v\""
   ]
  },
  {
   "cell_type": "markdown",
   "metadata": {},
   "source": [
    "### Put notebook collection into elastic search"
   ]
  },
  {
   "cell_type": "code",
   "execution_count": null,
   "metadata": {},
   "outputs": [],
   "source": [
    "# HOST = 'http://localhost:9200/'\n",
    "# es = Elasticsearch(hosts=[HOST],timeout=30,max_retries=10, retry_on_timeout=True) \n",
    "\n",
    "\n",
    "# INDEX = \"restart\"\n",
    "# TYPE = \"record\""
   ]
  },
  {
   "cell_type": "code",
   "execution_count": null,
   "metadata": {},
   "outputs": [],
   "source": [
    "# sample_df = create_SE_from_folder('sample',es,'notebooks',0)"
   ]
  },
  {
   "cell_type": "code",
   "execution_count": null,
   "metadata": {},
   "outputs": [],
   "source": [
    "# sample_df[-1:]['']"
   ]
  },
  {
   "cell_type": "code",
   "execution_count": null,
   "metadata": {},
   "outputs": [],
   "source": [
    "# sample_df.drop(columns=['char'])"
   ]
  },
  {
   "cell_type": "code",
   "execution_count": null,
   "metadata": {},
   "outputs": [],
   "source": [
    "# # set(sample_df.output_type)\n",
    "\n",
    "# sample_df[sample_df.output_type=='display_data']"
   ]
  },
  {
   "cell_type": "code",
   "execution_count": null,
   "metadata": {},
   "outputs": [],
   "source": [
    "# for chuck in tqdm_notebook(split(sample_df, 500)):\n",
    "#     try:\n",
    "#         r = es.bulk(rec_to_actions(chuck))\n",
    "#     except:\n",
    "#         print('failed, skip this df') # UITELGGEN WAT ER MIS GING ZONDER DE TRY/EXCEPT > IN HET VERSLAG (224)\n",
    "    \n",
    "    \n",
    "# # for chuck in tqdm_notebook(split(sample_df.drop(columns=['char']), 10000)):\n",
    "# #     r = es.bulk(rec_to_actions(chuck))"
   ]
  },
  {
   "cell_type": "code",
   "execution_count": null,
   "metadata": {},
   "outputs": [],
   "source": [
    "# # !curl -XDELETE \"localhost:9200/sample_notebooks\"\n",
    "# !curl \"http://localhost:9200/_cat/indices?v\""
   ]
  },
  {
   "cell_type": "code",
   "execution_count": null,
   "metadata": {},
   "outputs": [],
   "source": []
  },
  {
   "cell_type": "code",
   "execution_count": null,
   "metadata": {},
   "outputs": [],
   "source": []
  },
  {
   "cell_type": "code",
   "execution_count": null,
   "metadata": {},
   "outputs": [],
   "source": []
  }
 ],
 "metadata": {
  "kernelspec": {
   "display_name": "Python 3",
   "language": "python",
   "name": "python3"
  },
  "language_info": {
   "codemirror_mode": {
    "name": "ipython",
    "version": 3
   },
   "file_extension": ".py",
   "mimetype": "text/x-python",
   "name": "python",
   "nbconvert_exporter": "python",
   "pygments_lexer": "ipython3",
   "version": "3.7.4"
  }
 },
 "nbformat": 4,
 "nbformat_minor": 2
}
