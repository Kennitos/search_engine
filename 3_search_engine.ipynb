{
 "cells": [
  {
   "cell_type": "markdown",
   "metadata": {},
   "source": [
    "# Search Engine"
   ]
  },
  {
   "cell_type": "markdown",
   "metadata": {},
   "source": [
    "### Import"
   ]
  },
  {
   "cell_type": "code",
   "execution_count": 1,
   "metadata": {},
   "outputs": [],
   "source": [
    "import os\n",
    "import re\n",
    "\n",
    "import ipywidgets as widgets\n",
    "\n",
    "from elasticsearch import Elasticsearch\n",
    "from bs4 import BeautifulSoup"
   ]
  },
  {
   "cell_type": "markdown",
   "metadata": {},
   "source": [
    "### Give the username of your computer below:"
   ]
  },
  {
   "cell_type": "code",
   "execution_count": 3,
   "metadata": {},
   "outputs": [],
   "source": [
    "path = os.getcwd()\n",
    "username_pc = path.split('\\\\')[2] # username is always third item [drive][users][username][folder][folder][etc]\n",
    "# username_pc = 'kenne' # or type manually\n",
    "\n",
    "path.split(username_pc)[1]"
   ]
  },
  {
   "cell_type": "markdown",
   "metadata": {},
   "source": [
    "#### CHEATSHEET Elastic Search curl's"
   ]
  },
  {
   "cell_type": "code",
   "execution_count": 4,
   "metadata": {},
   "outputs": [
    {
     "name": "stdout",
     "output_type": "stream",
     "text": [
      "health status index      uuid                   pri rep docs.count docs.deleted store.size pri.store.size\n",
      "yellow open   repos_cell LftGIMs6S9CvBlBXWhjlOw   1   1     116397            0    303.1mb        303.1mb\n"
     ]
    },
    {
     "name": "stderr",
     "output_type": "stream",
     "text": [
      "  % Total    % Received % Xferd  Average Speed   Time    Time     Time  Current\n",
      "                                 Dload  Upload   Total   Spent    Left  Speed\n",
      "\n",
      "  0     0    0     0    0     0      0      0 --:--:-- --:--:-- --:--:--     0\n",
      "100   212  100   212    0     0  16307      0 --:--:-- --:--:-- --:--:-- 16307\n"
     ]
    }
   ],
   "source": [
    "# !curl \"http://localhost:9200/test\"\n",
    "# !curl -XDELETE \"localhost:9200/repos\"\n",
    "# !curl -XPOST \"http://localhost:9200/_shutdown\"\n",
    "\n",
    "!curl \"http://localhost:9200/_cat/indices?v\""
   ]
  },
  {
   "cell_type": "markdown",
   "metadata": {},
   "source": [
    "### Fucntions"
   ]
  },
  {
   "cell_type": "markdown",
   "metadata": {},
   "source": [
    "#### Difference re.match and re.findall\n",
    "re.match matches the pattern from the start of the string. re.findall however searches for occurrences of the pattern anywhere in the string."
   ]
  },
  {
   "cell_type": "code",
   "execution_count": 5,
   "metadata": {},
   "outputs": [],
   "source": [
    "# Text \n",
    "HOST = 'http://localhost:9200/'\n",
    "es = Elasticsearch(hosts=[HOST]) \n",
    "\n",
    "# Text \n",
    "normal_text = widgets.Text() #description=\"Search\", continuous_update=True)\n",
    "code = widgets.Text(description=\"Code\")\n",
    "markdown = widgets.Text(description=\"Markdown\")\n",
    "modules = widgets.Text(description=\"Modules\")\n",
    "\n",
    "# Buttons\n",
    "search_b_normal = widgets.Button(description=\"Search\")\n",
    "search_b_adv = widgets.Button(description=\"Adv S\")\n",
    "clear_b = widgets.Button(description=\"Clear\")\n",
    "\n",
    "# Output\n",
    "output = widgets.Output()\n",
    "\n",
    "\n",
    "def markdown_ref(text):\n",
    "    refs = re.findall('\\[(.*?)\\]\\((.*?)\\)', text) # get match the same as [reference](url or # within page)\n",
    "    for ref in refs: # small chance of multiple in a single text\n",
    "        to_replace = '['+ref[0]+']'+'('+ref[1]+')' # lorem ipsum [`ref0`](`ref1`) dolor sit amet\n",
    "        text = text.replace(to_replace,ref[0])\n",
    "    return text\n",
    "\n",
    "\n",
    "def create_ref(input_str):\n",
    "    if type(input_str) is list: # get the longest string from the list of strings, this works better with highlighting \n",
    "        longest = max(input_str, key=len)\n",
    "    else: \n",
    "        longest = input_str\n",
    "    if longest.startswith('#'):\n",
    "        longest = longest.replace('#','').lstrip() #use lstrip instead of strip (only want to strip in front of string)\n",
    "    longest = BeautifulSoup(longest, \"html.parser\").text # remove possible html tags, to avoid contradictory tags in display_results()\n",
    "    # \"BeautifulSoup(longest,\"lxml\") causes problems on other pc's\"\n",
    "    longest = longest.lstrip('-').lstrip() \n",
    "    longest = markdown_ref(longest)\n",
    "    start = '#:~:text='\n",
    "    end = longest.replace('`','').replace(' ','%20')    # remove html encoding for ` character (used like this ``variable``)\n",
    "                                                        # add html encoding for whitespaces between words\n",
    "    output = start+end\n",
    "    return output\n",
    "\n",
    "\n",
    "def multi_match_query(string,highlight):\n",
    "    \"\"\"\n",
    "    Function explenation\n",
    "    \"\"\"\n",
    "    # https://www.elastic.co/guide/en/elasticsearch/reference/6.8/search-request-highlighting.html\n",
    "    fields = ['string']\n",
    "    query_str = string\n",
    "    q = {}\n",
    "    query_dict = {}\n",
    "    multi_match = {}\n",
    "    multi_match['fields'] = fields\n",
    "    multi_match['query'] = query_str\n",
    "    query_dict['multi_match'] = multi_match\n",
    "    q['query'] = query_dict\n",
    "    \n",
    "    if highlight != None:\n",
    "        highlight = {\"pre_tags\":[\"<u><i><b>\"],\n",
    "            \"post_tags\":[\"</b></i></u>\"],\n",
    "            \"fields\":{'string':{}}}\n",
    "        q['highlight'] = highlight\n",
    "    return q\n",
    "\n",
    "\n",
    "def on_normal_search_clicked(b):\n",
    "    with output:\n",
    "        output.clear_output()\n",
    "        if normal_text.value == '':\n",
    "            print(\"Type a query\")\n",
    "        else:\n",
    "            display_results(multi_match_query(normal_text.value,True),10)\n",
    "\n",
    "\n",
    "def on_adv_search_clicked(b):\n",
    "    send_code = code.value\n",
    "    send_markdown = markdown.value\n",
    "    send_modules = modules.value\n",
    "    with output:\n",
    "        output.clear_output()\n",
    "        if code.value == \"\" and markdown.value=='' and modules.value=='':\n",
    "            print(\"Type a query\")\n",
    "        else:\n",
    "            if code.value == '':\n",
    "                send_code = None\n",
    "            if markdown.value == '':\n",
    "                send_markdown = None\n",
    "            if modules.value == '':\n",
    "                send_modules = None\n",
    "            print(query_string_query(send_code,send_markdown,send_modules,True))\n",
    "            display_results(query_string_query(send_code,send_markdown,send_modules,True),20)\n",
    "\n",
    "\n",
    "def on_clear_clicked(b):\n",
    "    with output:\n",
    "        output.clear_output()\n",
    "    normal_text.value = ''\n",
    "    markdown.value = ''\n",
    "    code.value = ''\n",
    "    modules.value = ''\n",
    "\n",
    "\n",
    "def switch(check):\n",
    "    with output:                      # remove if you want results to stay when\n",
    "        output.clear_output()         # you switch between normal and adv search\n",
    "    if check['new']:\n",
    "        search_display.children=[row_adv2,row_output] # --------------- ADV VERANDERD IN ADV2 --------------------\n",
    "    else:\n",
    "        search_display.children=[row_normal,row_output]\n",
    "\n",
    "\n",
    "def display_results(query,max_res):\n",
    "    result = es.search(body=query, size=max_res)\n",
    "    # HIER STAAT OFFLINE ES\n",
    "#     result = offline_es\n",
    "    for i in range(len(result['hits']['hits'])): # for all hits\n",
    "        res = result['hits']['hits'][i]\n",
    "        \n",
    "        res_layout = widgets.Layout(maring='0px')\n",
    "        \n",
    "        rank_title = widgets.HTML(value='<b>'+str(i+1)+'   '+res['_source']['file']+'</b>')#,layout=res_layout)\n",
    "        os_path = res['_source']['location']\n",
    "        localhost_path = os_path.split(username_pc)[1]\n",
    "        \n",
    "        url = widgets.HTML(value='<a href= http://localhost:8888/notebooks'+localhost_path+' target=\"_blank\">'+localhost_path+'</a>')\n",
    "        score = widgets.HTML(value=str(res['_score']))#,layout=res_layout)\n",
    "        folder = widgets.HTML(value=res['_source']['folder'])\n",
    "        file_cell = widgets.HTML(value='1')#res['_source']['file_cell'])\n",
    "        whole_layout = widgets.Layout(display='flex',\n",
    "                        flex_flow='column',\n",
    "                        align_items='stretch',\n",
    "                        border='grey solid 1px')\n",
    "        try:\n",
    "\n",
    "            highlight_list = res['highlight']['string']\n",
    "            highlight_str = ' '.join(highlight_list)\n",
    "            highlight = widgets.HTML(value=str(highlight_list),layout=res_layout)\n",
    "            highlight_ref = create_ref(highlight_list)\n",
    "            text = res['_source']['string']\n",
    "            fl = widgets.HTML(value=text[0])\n",
    "            ref_path = 'http://localhost:8888/notebooks' + localhost_path + create_ref(text[0])\n",
    "            ref_path = ref_path.replace(' ','%20') # in case the filename has whitespace between words (example the ipython-notebooks files of yoavram) \n",
    "\n",
    "            url_local_ref = widgets.HTML(value= '<a href= '+ref_path+' target=\"_blank\"> '+localhost_path+'</a>')\n",
    "            single_result = widgets.VBox([rank_title,score,folder,file_cell,url_local_ref,highlight],layout=whole_layout)      \n",
    "        except:\n",
    "            single_result = widgets.VBox([rank_title,score,folder,file_cell,url],layout=whole_layout)\n",
    "        display(single_result)\n"
   ]
  },
  {
   "cell_type": "code",
   "execution_count": 6,
   "metadata": {},
   "outputs": [
    {
     "data": {
      "application/vnd.jupyter.widget-view+json": {
       "model_id": "868ff43e1fba4da5aa6149e8b59fad95",
       "version_major": 2,
       "version_minor": 0
      },
      "text/plain": [
       "Checkbox(value=False, description='Advanced Search')"
      ]
     },
     "metadata": {},
     "output_type": "display_data"
    },
    {
     "data": {
      "application/vnd.jupyter.widget-view+json": {
       "model_id": "a4b34da2f3cb4a1a9ec3c1a5fffc175c",
       "version_major": 2,
       "version_minor": 0
      },
      "text/plain": [
       "VBox(children=(HBox(children=(Text(value=''), Button(description='Search', style=ButtonStyle()), Button(descri…"
      ]
     },
     "metadata": {},
     "output_type": "display_data"
    }
   ],
   "source": [
    "search_b_normal.on_click(on_normal_search_clicked)\n",
    "search_b_adv.on_click(on_adv_search_clicked)\n",
    "clear_b.on_click(on_clear_clicked)\n",
    "\n",
    "check_a = widgets.Checkbox(description='markdown')\n",
    "check_b = widgets.Checkbox(description='code')\n",
    "check_c = widgets.Checkbox(description='heading')\n",
    "check_d = widgets.Checkbox(description='display data')\n",
    "check_e = widgets.Checkbox(description='e')\n",
    "row_check = widgets.HBox([check_a,check_b,check_c,check_d,check_e])\n",
    "\n",
    "row_normal = widgets.HBox([normal_text,search_b_normal,clear_b])\n",
    "row_adv = widgets.HBox([markdown,code,modules,search_b_adv,clear_b])\n",
    "row_adv2 = widgets.VBox([row_check,row_adv])\n",
    "row_output = widgets.VBox([output])\n",
    "\n",
    "top_toggle = widgets.Checkbox(description='Advanced Search')\n",
    "top_toggle.observe(switch, names='value')\n",
    "display(top_toggle)\n",
    "\n",
    "normal_text.on_submit(on_normal_search_clicked)\n",
    "code.on_submit(on_adv_search_clicked)\n",
    "markdown.on_submit(on_adv_search_clicked)\n",
    "# modules.on_submit(on_adv_search_clicked)\n",
    "\n",
    "\n",
    "search_display = widgets.VBox(children = [row_normal,row_output])\n",
    "display(search_display)"
   ]
  }
 ],
 "metadata": {
  "kernelspec": {
   "display_name": "Python 3",
   "language": "python",
   "name": "python3"
  },
  "language_info": {
   "codemirror_mode": {
    "name": "ipython",
    "version": 3
   },
   "file_extension": ".py",
   "mimetype": "text/x-python",
   "name": "python",
   "nbconvert_exporter": "python",
   "pygments_lexer": "ipython3",
   "version": "3.7.4"
  }
 },
 "nbformat": 4,
 "nbformat_minor": 2
}
